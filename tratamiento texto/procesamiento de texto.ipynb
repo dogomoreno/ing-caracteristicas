{
 "cells": [
  {
   "cell_type": "markdown",
   "metadata": {},
   "source": [
    "<p><img src=\"https://mcd.unison.mx/wp-content/themes/awaken/img/logo_mcd.png\" width=\"100\" align=\"center\"></p>"
   ]
  },
  {
   "cell_type": "markdown",
   "metadata": {},
   "source": [
    "# Procesamiento de texto \n",
    "\n",
    "## Ingeniería de Características \n",
    "\n",
    "### Maestría en Ciencia de Datos \n",
    "### Universidad de Sonora\n",
    "\n",
    "\n",
    "\n",
    "#### Julio Waissman Vilanova (julio.waissman@unison.mx)\n",
    "\n"
   ]
  },
  {
   "cell_type": "markdown",
   "metadata": {},
   "source": [
    "\n",
    "El correcto procesamiento de texto es un paso escencial para cualquier tarea de Procesamiento del Lenguaje Natural (PLN). En no pocas ocasiones, la calidad de los resultados se encuentra intimamente relacionada con ésta tarea. Sin embargo, después de la obtención de documentos (una tarea aún más ingrata) esta es una de las tareas menos glamorosa. \n",
    "\n",
    "Hay una serie de desiciones que hay que tomar desde esta etapa, y algunas veces es necesario volver a estas instancias para poder obtener un resultado satisfactorio."
   ]
  },
  {
   "cell_type": "markdown",
   "metadata": {},
   "source": [
    "## 1. Normalización\n",
    "\n",
    "### Expresiones regulares en python\n",
    "\n",
    "La limpieza de texto es un paso crucial, el cual se da a lo largo de todo el procesamiento de texto. Vamos a revisar algunos de los métodos más usuales basados en reglas, los cuales tienen que ver con el manejo de expresiones regulares. Para mayor información sobre expresiones regulares y su uso en *python* se puede consultar el material siguiente:\n",
    "\n",
    "- Un [*acordeon* del módulo `re` de *python*](https://www.dataquest.io/blog/large_files/python-regular-expressions-cheat-sheet.pdf). \n",
    "\n",
    "- Un [tutorial en español sobre el uso de `re`](https://relopezbriega.github.io/blog/2015/07/19/expresiones-regulares-con-python/)\n",
    "\n",
    "El compilador de expresiones regulares viene con varias banderas de compilación, entre las que destacan `re.I` (para ignorar el uso de mayúsculas y minúsculas); `re.S`, para que el punto signifique cualquier caracter, incluido `\\n` (muy práctico en la secuancia `.*` en multiples lineas); `re.M` que permite la búsqueda en múltiples lineas, afectando la operación de los caracteres `^` y `$`; y por último `re.X` para poder representar la expresión regular en forma *verbose* (o verborreica). \n",
    "\n",
    "Vamos a hacer algunos ejemplos de expresiones regulares para practicar. Primero, vamos a compilar y explicar algunas fórmulas que típicamente son muy útiles en PLN. \n"
   ]
  },
  {
   "cell_type": "code",
   "execution_count": 1,
   "metadata": {},
   "outputs": [],
   "source": [
    "import re\n",
    "\n",
    "email_re = re.compile(r\"\"\"\n",
    "\\b               # comienzo de delimitador de palabra\n",
    "[\\w][\\w\\.-]*     # Cualquier caracter alfanumerico seguido de uno o mas caracteres mas los signos (. -)\n",
    "@                # seguido de @\n",
    "\\w[\\w\\.-]*       # cualquier caracter alfanumerico mas los signos (.-)\n",
    "\\.               # seguido de .\n",
    "[a-zA-Z]{2,6}    # dominio de alto nivel: 2 a 6 letras en minúsculas o mayúsculas.\n",
    "\\b               # fin de delimitador de palabra\n",
    "\"\"\", re.X)\n",
    "\n",
    "url_re = re.compile(r\"\"\"\n",
    "\\b                  # delimitador de palabra\n",
    "(\\w+:\\/{2})?        # caracteres iniciales (http, https, ftp, ...) seguidos de // (uno o ninguno)\n",
    "[\\d\\w-]+            # cualquier caracter alfanumerico mas -\n",
    "(\\.[\\d\\w-]+)+       # seguido de uno o mas dominios, que empiezan con punto y siguen con caracteres\n",
    "(/\\S+)*             # cualquier serie de caracteres separados por / y sin espacios en blanco\n",
    "\\b                  # delimitador de palabra\n",
    "\"\"\", re.X) \n",
    "\n",
    "insulto_re = re.compile(r\"\"\"\n",
    "([#%&\\*\\$]{2,})     # al menos dos simbolos típicos para poner insultos\n",
    "(\\w*)               # seguidos de letras\n",
    "\"\"\", re.X)"
   ]
  },
  {
   "cell_type": "markdown",
   "metadata": {},
   "source": [
    "y a hora vamos a probar algunos de estas expresiones regulares. Esta herramienta de `nltk` es muy\n",
    "util para verificar que se armaron las expresiones regulares de forma correcta."
   ]
  },
  {
   "cell_type": "code",
   "execution_count": 2,
   "metadata": {
    "scrolled": true
   },
   "outputs": [
    {
     "data": {
      "text/plain": [
       "'\\nComo la mayoría sabréis, un sitio Web “normal” tiene una URL en este formato: \\nhttp://www.ordenadores-y-portatiles.com. Habrás notado que www.ordenadores-y-portatiles.com \\nsigue llegando sin ningún problema al sitio. que es diferente que\\nwww.ordenadores-y-portatiles.com/una%20rireccion/de%20prueba/pagina.html\\nNos podemos encontrar otros formatos como es el caso de FTP, como por ejemplo \\nftp.microsoft.com en modo comando o ftp://ftp.microsoft.com si lo ponemos en un \\nnavegador de Internet. Tambien se puede accesar por su IP como en  217.76.130.207, \\n\\nPara los correos electrónicos, si tienes uno en gmail, lo puede poner como\\n:CORREO:, :CORREO:, :CORREO:,\\n:CORREO:, y todos te llevan al mismo lado. Igual se puede tener\\ncorreos un poco extraños como :CORREO:, y deberíamos\\npoder reconocerlos (entre otros)\\n'"
      ]
     },
     "execution_count": 2,
     "metadata": {},
     "output_type": "execute_result"
    }
   ],
   "source": [
    "texto_en_bruto =\"\"\"\n",
    "Como la mayoría sabréis, un sitio Web “normal” tiene una URL en este formato: \n",
    "http://www.ordenadores-y-portatiles.com. Habrás notado que www.ordenadores-y-portatiles.com \n",
    "sigue llegando sin ningún problema al sitio. que es diferente que\n",
    "www.ordenadores-y-portatiles.com/una%20rireccion/de%20prueba/pagina.html\n",
    "Nos podemos encontrar otros formatos como es el caso de FTP, como por ejemplo \n",
    "ftp.microsoft.com en modo comando o ftp://ftp.microsoft.com si lo ponemos en un \n",
    "navegador de Internet. Tambien se puede accesar por su IP como en  217.76.130.207, \n",
    "\n",
    "Para los correos electrónicos, si tienes uno en gmail, lo puede poner como\n",
    "juliowaissman@gmail.com, JulioWaissman@gmail.com, julio.waissman@gmail.com,\n",
    "Julio.Waissman@gmail.com, y todos te llevan al mismo lado. Igual se puede tener\n",
    "correos un poco extraños como w234QWSA.dojdnn_wsda@unison.edu.mx, y deberíamos\n",
    "poder reconocerlos (entre otros)\n",
    "\"\"\"\n",
    "\n",
    "# La utilería no funciona con expresiones regulares compiladas\n",
    "email_re_str = r\"\\b[\\w-][\\w\\.-]*@\\w[\\w\\.-]*\\.[a-zA-Z]{2,6}\\b\"\n",
    "url_re_str = r\"\\b(\\w+:\\/{2})?\\b[\\d\\w-]+(\\.[\\d\\w-]+)+(/\\S+)*\\b\"\n",
    "\n",
    "re.findall(url_re_str, texto_en_bruto)\n",
    "\n",
    "cadena, n = re.subn(email_re, \":CORREO:\", texto_en_bruto)\n",
    "cadena"
   ]
  },
  {
   "cell_type": "markdown",
   "metadata": {},
   "source": [
    "Ahora, vamos a hacer algunas expresiones regulares para detectar emoticones (algo particularmente útil en tratamiento de textos en redes sociales)."
   ]
  },
  {
   "cell_type": "code",
   "execution_count": 3,
   "metadata": {},
   "outputs": [],
   "source": [
    "emo_gde_feliz_re = re.compile(r' [8x;:=]-?(?:\\)|\\}|\\]|>){2,}')\n",
    "emo_chi_feliz_re = re.compile(r' (?:[;:=]-?[\\)\\}\\]d>])|(?:<3)|(?:XOXO)')\n",
    "emo_gde_triste_re = re.compile(r' [x:=]-?(?:\\(|\\[|\\||\\\\|/|\\{|<){2,}')\n",
    "emo_chi_triste_re = re.compile(r' [x:=]-?[\\(\\[\\|\\\\/\\{<]')"
   ]
  },
  {
   "cell_type": "markdown",
   "metadata": {},
   "source": [
    "**Inventa un texto en bruto con diferentes emojis y substituye los emojis por los tokens `:BHAPPY:`, `:SHAPPY:`, `BSAD:`, `:SSAD` segun corresponda.** "
   ]
  },
  {
   "cell_type": "code",
   "execution_count": null,
   "metadata": {},
   "outputs": [],
   "source": [
    "# ---- Inserta tu código aqui ------"
   ]
  },
  {
   "cell_type": "markdown",
   "metadata": {},
   "source": [
    "### Tratamiento de texto"
   ]
  },
  {
   "cell_type": "markdown",
   "metadata": {},
   "source": [
    "Ahora vamos a utilizar las expresiones regulares para tratar un conjunto de documentos, para utilizarlos posteriormente en una tarea de ciencia de datos. Vamos a usar los datos de los tweets del concurso TASS 2015 que se encuentran disponibles para el desarrollo y prueba de sistemas de análisis de sentimientos de manera libre. Para esto, vamos a procesar el corupus de entrenamiento,el cual viene en formato `xml`."
   ]
  },
  {
   "cell_type": "code",
   "execution_count": 4,
   "metadata": {},
   "outputs": [
    {
     "data": {
      "text/html": [
       "<div>\n",
       "<style scoped>\n",
       "    .dataframe tbody tr th:only-of-type {\n",
       "        vertical-align: middle;\n",
       "    }\n",
       "\n",
       "    .dataframe tbody tr th {\n",
       "        vertical-align: top;\n",
       "    }\n",
       "\n",
       "    .dataframe thead th {\n",
       "        text-align: right;\n",
       "    }\n",
       "</style>\n",
       "<table border=\"1\" class=\"dataframe\">\n",
       "  <thead>\n",
       "    <tr style=\"text-align: right;\">\n",
       "      <th></th>\n",
       "      <th>texto</th>\n",
       "      <th>polaridad</th>\n",
       "      <th>id</th>\n",
       "      <th>usuario</th>\n",
       "      <th>fecha</th>\n",
       "      <th>tópicos</th>\n",
       "    </tr>\n",
       "  </thead>\n",
       "  <tbody>\n",
       "    <tr>\n",
       "      <th>0</th>\n",
       "      <td>Salgo de #VeoTV , que día más largoooooo...</td>\n",
       "      <td>NONE</td>\n",
       "      <td>142389495503925248</td>\n",
       "      <td>@ccifuentes</td>\n",
       "      <td>2011-12-02T00:47:55</td>\n",
       "      <td>[\"otros\"]</td>\n",
       "    </tr>\n",
       "    <tr>\n",
       "      <th>1</th>\n",
       "      <td>@PauladeLasHeras No te libraras de ayudar me/n...</td>\n",
       "      <td>NEU</td>\n",
       "      <td>142389933619945473</td>\n",
       "      <td>@CarmendelRiego</td>\n",
       "      <td>2011-12-02T00:49:40</td>\n",
       "      <td>[\"otros\"]</td>\n",
       "    </tr>\n",
       "    <tr>\n",
       "      <th>2</th>\n",
       "      <td>@marodriguezb Gracias MAR</td>\n",
       "      <td>P</td>\n",
       "      <td>142391947707940864</td>\n",
       "      <td>@CarmendelRiego</td>\n",
       "      <td>2011-12-02T00:57:40</td>\n",
       "      <td>[\"otros\"]</td>\n",
       "    </tr>\n",
       "    <tr>\n",
       "      <th>3</th>\n",
       "      <td>Off pensando en el regalito Sinde, la que se v...</td>\n",
       "      <td>N+</td>\n",
       "      <td>142416095012339712</td>\n",
       "      <td>@mgilguerrero</td>\n",
       "      <td>2011-12-02T02:33:37</td>\n",
       "      <td>[\"política\", \"economía\"]</td>\n",
       "    </tr>\n",
       "    <tr>\n",
       "      <th>4</th>\n",
       "      <td>Conozco a alguien q es adicto al drama! Ja ja ...</td>\n",
       "      <td>P+</td>\n",
       "      <td>142422495721562112</td>\n",
       "      <td>@paurubio</td>\n",
       "      <td>2011-12-02T02:59:03</td>\n",
       "      <td>[\"otros\"]</td>\n",
       "    </tr>\n",
       "    <tr>\n",
       "      <th>5</th>\n",
       "      <td>RT @FabHddzC: Si amas a alguien, déjalo libre....</td>\n",
       "      <td>NONE</td>\n",
       "      <td>142424715175280640</td>\n",
       "      <td>@paurubio</td>\n",
       "      <td>2011-12-02T03:07:52</td>\n",
       "      <td>[\"música\"]</td>\n",
       "    </tr>\n",
       "    <tr>\n",
       "      <th>6</th>\n",
       "      <td>Toca @crackoviadeTV3 . Grabación dl especial N...</td>\n",
       "      <td>P+</td>\n",
       "      <td>142483342040907776</td>\n",
       "      <td>@Carlos_Latre</td>\n",
       "      <td>2011-12-02T07:00:50</td>\n",
       "      <td>[\"entretenimiento\"]</td>\n",
       "    </tr>\n",
       "    <tr>\n",
       "      <th>7</th>\n",
       "      <td>Hoy asisitiré en Madrid a un seminario sobre l...</td>\n",
       "      <td>NONE</td>\n",
       "      <td>142493511634259968</td>\n",
       "      <td>@Ignacos</td>\n",
       "      <td>2011-12-02T07:41:15</td>\n",
       "      <td>[\"política\"]</td>\n",
       "    </tr>\n",
       "    <tr>\n",
       "      <th>8</th>\n",
       "      <td>Buen día todos! Lo primero mandar un abrazo gr...</td>\n",
       "      <td>P+</td>\n",
       "      <td>142494476051562496</td>\n",
       "      <td>@nacho_uriarte</td>\n",
       "      <td>2011-12-02T07:45:05</td>\n",
       "      <td>[\"otros\"]</td>\n",
       "    </tr>\n",
       "    <tr>\n",
       "      <th>9</th>\n",
       "      <td>Desde el escaño. Todo listo para empezar #endi...</td>\n",
       "      <td>P+</td>\n",
       "      <td>142496796416016384</td>\n",
       "      <td>@JuanraLucas</td>\n",
       "      <td>2011-12-02T07:54:19</td>\n",
       "      <td>[\"política\"]</td>\n",
       "    </tr>\n",
       "  </tbody>\n",
       "</table>\n",
       "</div>"
      ],
      "text/plain": [
       "                                               texto polaridad  \\\n",
       "0        Salgo de #VeoTV , que día más largoooooo...      NONE   \n",
       "1  @PauladeLasHeras No te libraras de ayudar me/n...       NEU   \n",
       "2                          @marodriguezb Gracias MAR         P   \n",
       "3  Off pensando en el regalito Sinde, la que se v...        N+   \n",
       "4  Conozco a alguien q es adicto al drama! Ja ja ...        P+   \n",
       "5  RT @FabHddzC: Si amas a alguien, déjalo libre....      NONE   \n",
       "6  Toca @crackoviadeTV3 . Grabación dl especial N...        P+   \n",
       "7  Hoy asisitiré en Madrid a un seminario sobre l...      NONE   \n",
       "8  Buen día todos! Lo primero mandar un abrazo gr...        P+   \n",
       "9  Desde el escaño. Todo listo para empezar #endi...        P+   \n",
       "\n",
       "                   id          usuario                fecha  \\\n",
       "0  142389495503925248      @ccifuentes  2011-12-02T00:47:55   \n",
       "1  142389933619945473  @CarmendelRiego  2011-12-02T00:49:40   \n",
       "2  142391947707940864  @CarmendelRiego  2011-12-02T00:57:40   \n",
       "3  142416095012339712    @mgilguerrero  2011-12-02T02:33:37   \n",
       "4  142422495721562112        @paurubio  2011-12-02T02:59:03   \n",
       "5  142424715175280640        @paurubio  2011-12-02T03:07:52   \n",
       "6  142483342040907776    @Carlos_Latre  2011-12-02T07:00:50   \n",
       "7  142493511634259968         @Ignacos  2011-12-02T07:41:15   \n",
       "8  142494476051562496   @nacho_uriarte  2011-12-02T07:45:05   \n",
       "9  142496796416016384     @JuanraLucas  2011-12-02T07:54:19   \n",
       "\n",
       "                    tópicos  \n",
       "0                 [\"otros\"]  \n",
       "1                 [\"otros\"]  \n",
       "2                 [\"otros\"]  \n",
       "3  [\"política\", \"economía\"]  \n",
       "4                 [\"otros\"]  \n",
       "5                [\"música\"]  \n",
       "6       [\"entretenimiento\"]  \n",
       "7              [\"política\"]  \n",
       "8                 [\"otros\"]  \n",
       "9              [\"política\"]  "
      ]
     },
     "metadata": {},
     "output_type": "display_data"
    }
   ],
   "source": [
    "import xml.etree.ElementTree as et\n",
    "import pandas as pd\n",
    "\n",
    "archivo = \"general-tweets-train-tagged.xml\"\n",
    "\n",
    "arbol = et.parse(archivo)\n",
    "raiz = arbol.getroot()\n",
    "data_dic = []\n",
    "for tweet in raiz.iter('tweet'):\n",
    "    contenido = tweet.find('content').text\n",
    "    if contenido is not None:\n",
    "        data_dic.append({\n",
    "            'texto': contenido,\n",
    "            'polaridad': tweet.find('sentiments')[0].find('value').text,\n",
    "            'id': tweet.find('tweetid').text,\n",
    "            'usuario': '@' + tweet.find('user').text,\n",
    "            'fecha': tweet.find('date').text,\n",
    "            'tópicos': '[' + ', '.join(['\"' + t.text + '\"' for t in tweet.find('topics')]) + ']'\n",
    "        })\n",
    "df_train = pd.DataFrame.from_dict(data_dic)\n",
    "display(df_train.head(10))"
   ]
  },
  {
   "cell_type": "markdown",
   "metadata": {},
   "source": [
    "y vamos a quedarnos sólo con el texto:"
   ]
  },
  {
   "cell_type": "code",
   "execution_count": 5,
   "metadata": {},
   "outputs": [
    {
     "name": "stdout",
     "output_type": "stream",
     "text": [
      "Conjunto con 7218 entradas de tweeter para ser tratadas\n"
     ]
    },
    {
     "data": {
      "text/plain": [
       "['Salgo de #VeoTV , que día más largoooooo...',\n",
       " '@PauladeLasHeras No te libraras de ayudar me/nos. Besos y gracias',\n",
       " '@marodriguezb Gracias MAR',\n",
       " 'Off pensando en el regalito Sinde, la que se va de la SGAE cuando se van sus corruptos. Intento no sacar conclusiones (lo intento)',\n",
       " 'Conozco a alguien q es adicto al drama! Ja ja ja te suena d algo!',\n",
       " 'RT @FabHddzC: Si amas a alguien, déjalo libre. Si grita ese hombre es mío era @paurubio...',\n",
       " 'Toca @crackoviadeTV3 . Grabación dl especial Navideño...Mari crismas!',\n",
       " 'Hoy asisitiré en Madrid a un seminario sobre la Estrategia Española de Seguridad organizado por FAES.',\n",
       " 'Buen día todos! Lo primero mandar un abrazo grande a Miguel y a su familia @libertadmontes Hoy podría ser un día para la grandeza humana.',\n",
       " 'Desde el escaño. Todo listo para empezar #endiascomohoy en el Congreso http://t.co/Mu2yIgCb',\n",
       " 'Bdías. EM no se ira de puente. Si vosotros os vais no dejeis de llevar la tableta o el PC y desde luego Orbyt. De momento no digo más.',\n",
       " 'Un sistema económico q recorta dinero para prestaciones sociales y refuerza con billón y medio d euros a los bancos, no necesita repensarse?',\n",
       " '#programascambiados caca d ajuste',\n",
       " 'Buen viernes',\n",
       " '“@adri_22_22: #programascambiados es TT gracias a @Carlos_Latre” GRACIAS POR EL BUEN RATO AMIGOS!!;)',\n",
       " 'Noooooos días! Me he dormidoooooo ya estoy en el taxi camino al aeropuerto, en 7 minutos vestida y maleta hecha. Que habré metido Dios mio!?',\n",
       " 'Vamos a por el viernes (@ Ayuntamiento de Málaga) [pic]: http://t.co/lzDVsoCu',\n",
       " 'La Universidad confía en De la Calle para encarar sus retos más ambiciosos http://t.co/7dzPPija',\n",
       " '¿Me ayudáis a que #indultoneiro sea TT? Por si Zapatero quiere alguna sugerencia para el último consejo de ministros http://t.co/Qao9uvsG',\n",
       " 'abcdesevilla.es: Recio no tiene «indicios potentes» para denunciar a los responsables de los ERE http://t.co/wlDSs1yQ']"
      ]
     },
     "execution_count": 5,
     "metadata": {},
     "output_type": "execute_result"
    }
   ],
   "source": [
    "x_train = [documento for documento in df_train['texto'].values]\n",
    "print('Conjunto con {} entradas de tweeter para ser tratadas'.format(len(x_train)))\n",
    "\n",
    "x_train[:20]"
   ]
  },
  {
   "cell_type": "markdown",
   "metadata": {},
   "source": [
    "y el conjunto debera tener 7,218 entradas.\n",
    "\n",
    "Ahora que ya tenemos los datos de entrada es necesario tratarlos. Para esto, es muy importante que se traten de forma homogenea, y que la forma en que los tratamos sea fácil de exportar, con el fin que sea reproducible. Es por esto que el tratamiento debe de ser siempre realizado en forma de función. Vamos a tratar nuestro texto en una función `prepara_texto`."
   ]
  },
  {
   "cell_type": "code",
   "execution_count": 6,
   "metadata": {},
   "outputs": [],
   "source": [
    "# Vamos a tratar que ver que significa cada expresión regular\n",
    "\n",
    "usuarios_re = re.compile(r\"@[\\w\\d]+\")\n",
    "\n",
    "hashtags_re = re.compile(r\"#[\\w\\d]+\")\n",
    "\n",
    "remplaza_por_espacios_re = re.compile('[\\n/(){}\\[\\]\\|@,;\\.]')\n",
    "\n",
    "simbolos_a_eliminar_re = re.compile('[^\\d\\w #+_]')\n",
    "\n",
    "def prepara_texto(texto):\n",
    "    text = texto.lower()\n",
    "    \n",
    "    # Codificaciones (problemas con UTF-8, latin1, etc...)\n",
    "    text = re.sub(r'\\\\\\\\', r'\\\\', text)\n",
    "    text = re.sub(r'\\\\\\\\', r'\\\\', text)\n",
    "    text = re.sub(r'\\\\x\\w{2,2}', ' ', text)\n",
    "    text = re.sub(r'\\\\u\\w{4,4}', ' ', text)\n",
    "    text = re.sub(r'\\\\n', ' . ', text)\n",
    "\n",
    "    # Cambia e_mails, urls y usuarios por palabra clave\n",
    "    text = re.sub(email_re, '_EMAIL_', text)\n",
    "    text = re.sub(url_re, '_URL_', text)\n",
    "    text = re.sub(usuarios_re, '_USR_', text)\n",
    "    text = re.sub(hashtags_re, '_HASHTAG_', text)\n",
    "    \n",
    "    # Elimina etiquetas de marcaje tipo xml\n",
    "    # (no se requiere en este caso pero solo para dejar el tip)\n",
    "    #text = BeautifulSoup(text, \"lxml\").get_text() \n",
    "  \n",
    "    # Las palabras con letras repetidas más de 3 veces \n",
    "    # (dos veces por las personas que abusan demasiado)\n",
    "    text = re.sub(r'([a-zA-Z])\\1\\1+(\\w*)', r'\\1\\1\\2', text)\n",
    "    text = re.sub(r'([a-zA-Z])\\1\\1+(\\w*)', r'\\1\\1\\2', text)\n",
    "    \n",
    "    # Elimina simbolos\n",
    "    text = re.sub(remplaza_por_espacios_re, ' ', text)\n",
    "    text = re.sub(simbolos_a_eliminar_re, '', text)\n",
    "    \n",
    "    return text"
   ]
  },
  {
   "cell_type": "markdown",
   "metadata": {},
   "source": [
    "Ahora vamos a normalizar nuestros documentos"
   ]
  },
  {
   "cell_type": "code",
   "execution_count": 7,
   "metadata": {},
   "outputs": [
    {
     "data": {
      "text/plain": [
       "['salgo de _HASHTAG_   que día más largoo   ',\n",
       " '_USR_ no te libraras de ayudar me nos  besos y gracias',\n",
       " '_USR_ gracias mar',\n",
       " 'off pensando en el regalito sinde  la que se va de la sgae cuando se van sus corruptos  intento no sacar conclusiones  lo intento ',\n",
       " 'conozco a alguien q es adicto al drama ja ja ja te suena d algo',\n",
       " 'rt _USR_ si amas a alguien  déjalo libre  si grita ese hombre es mío era _USR_   ',\n",
       " 'toca _USR_   grabación dl especial navideño   mari crismas',\n",
       " 'hoy asisitiré en madrid a un seminario sobre la estrategia española de seguridad organizado por faes ',\n",
       " 'buen día todos lo primero mandar un abrazo grande a miguel y a su familia _USR_ hoy podría ser un día para la grandeza humana ',\n",
       " 'desde el escaño  todo listo para empezar _HASHTAG_ en el congreso _URL_',\n",
       " 'bdías  em no se ira de puente  si vosotros os vais no dejeis de llevar la tableta o el pc y desde luego orbyt  de momento no digo más ',\n",
       " 'un sistema económico q recorta dinero para prestaciones sociales y refuerza con billón y medio d euros a los bancos  no necesita repensarse',\n",
       " '_HASHTAG_ caca d ajuste',\n",
       " 'buen viernes',\n",
       " '_USR_ _HASHTAG_ es tt gracias a _USR_ gracias por el buen rato amigos  ',\n",
       " 'noos días me he dormidoo ya estoy en el taxi camino al aeropuerto  en 7 minutos vestida y maleta hecha  que habré metido dios mio',\n",
       " 'vamos a por el viernes    ayuntamiento de málaga   pic  _URL_',\n",
       " 'la universidad confía en de la calle para encarar sus retos más ambiciosos _URL_',\n",
       " 'me ayudáis a que _HASHTAG_ sea tt por si zapatero quiere alguna sugerencia para el último consejo de ministros _URL_',\n",
       " '_URL_ recio no tiene indicios potentes para denunciar a los responsables de los ere _URL_']"
      ]
     },
     "execution_count": 7,
     "metadata": {},
     "output_type": "execute_result"
    }
   ],
   "source": [
    "x_train_prep = [prepara_texto(documento) for documento in x_train]\n",
    "x_train_prep[:20]"
   ]
  },
  {
   "cell_type": "markdown",
   "metadata": {},
   "source": [
    "Así como estos ejemplos, existen otros casos en los cuales se pueden establecer reglas, basadas o no en \n",
    "expresiones regulares. Algunos casos son:\n",
    "\n",
    "1. Etiquetas de marcaje (Markdown, $\\LaTeX$, ...). \n",
    "\n",
    "2. Eliminación de apostrofes\n",
    "\n",
    "3. Argot y neologísmos\n",
    "\n",
    "Igualmente, la puntuación puede mantenerse en algunos casos (por ejemplo, los signos de exclamación e interrogación). Por otra parte, usuarios, url, correos electrónicos y demás, pueden ser eliminados en lugar de mantenerlos con una palabra clave (o inclusive, pueden ser mantenidos tal cual, si la base de datos es suficientemente amplia y el nombre del usuario es fundamental para inferir el contexto).\n"
   ]
  },
  {
   "cell_type": "markdown",
   "metadata": {},
   "source": [
    "## 2. Tokenización\n",
    "\n",
    "La definición de *token*, particularmente en su uso en PLN no es muy preciso. Sin embargo, hay un consenso establecido en entender un *token* como la ocurrencia individual de una unidad mínima de lenguaje. Esta unidad puede pertenecer a una diversidad de *tipos* de elementos gramaticales y su única restricción es que sea un bloque indivisible de texto útil para transmitir un mensaje. La pertinencia de esta división depende mucho del lenguaje y del contexto del mensaje que se está analizando.\n",
    "\n",
    "En el caso de lenguajes como el español y el inglés, la estructura del lenguaje escrito es predominantemente alfabética con el uso de logogramas para representación alternativa/compacta de números y para símbolos ([sistemas de escritura](https://en.wikipedia.org/wiki/Writing_system)). En este caso, la segmentación de un texto en *tokens* es relativamente simple, utilizando caracteres de demarcación como pueden ser los espacios en blanco y los signos de puntuación.\n",
    "\n",
    "Utilizando la biblioteca [nltk (*Natural language toolkit*)](http://www.nltk.org) de python, vamos a revisar diferentes formas de *tokenizar* a partir de este [texto](https://www.zendalibros.com/5-poemas-de-ruben-dario/) de Rubén Darío:\n",
    "\n",
    ">Junto al negro palacio del rey de la isla de Hierro (¡Oh, cruel, horrible, destierro!) ¿Cómo es que\n",
    "tú, hermana armoniosa, haces cantar al cielo gris, tu pajarera de ruiseñores, tu formidable caja musical?\n",
    "¿No te entristece recordar la primavera en que oíste a un pájaro divino y tornasol\n",
    ">\n",
    ">en el país del sol?\n",
    ">\n",
    ">En el jardín del rey de la isla de Oro (¡oh, mi ensueño que adoro!) fuera mejor que tú, armoniosa\n",
    "hermana, amaestrases tus aladas flautas, tus sonoras arpas; tú que naciste donde más lindos nacen el clavel de sangre y la rosa de arrebol,\n",
    ">\n",
    ">en el país del sol\n",
    ">\n",
    ">O en el alcázar de la reina de la isla de Plata (Schubert, solloza la Serenata…) pudieras también, hermana\n",
    "armoniosa, hacer que las místicas aves de tu alma alabasen, dulce, dulcemente, el claro de luna, los vírgenes lirios, la monja paloma y el cisne marqués. La mejor plata se funde en un ardiente crisol,\n",
    ">\n",
    ">en el país del sol\n",
    ">\n",
    ">Vuelve, pues a tu barca, que tiene lista la vela (resuena, lira, Céfiro, vuela) y parte, armoniosa\n",
    "hermana, a donde un príncipe bello, a la orilla del mar, pide liras, y versos y rosas, y acaricia sus rizos de\n",
    "oro bajo un regio y azul parasol,\n",
    ">\n",
    ">en el país del sol\n",
    "\n"
   ]
  },
  {
   "cell_type": "code",
   "execution_count": 8,
   "metadata": {},
   "outputs": [],
   "source": [
    "import nltk\n",
    "\n",
    "el_pais_del_sol = \"\"\"Junto al negro palacio del rey de la isla de Hierro (¡Oh, cruel, horrible, destierro!) ¿Cómo es que\n",
    "tú, hermana armoniosa, haces cantar al cielo gris, tu pajarera de ruiseñores, tu formidable caja musical?\n",
    "¿No te entristece recordar la primavera en que oíste a un pájaro divino y tornasol\n",
    "\n",
    "en el país del sol?\n",
    "\n",
    "En el jardín del rey de la isla de Oro (¡oh, mi ensueño que adoro!) fuera mejor que tú, armoniosa\n",
    "hermana, amaestrases tus aladas flautas, tus sonoras arpas; tú que naciste donde más lindos nacen el clavel de sangre y la rosa de arrebol,\n",
    "\n",
    "en el país del sol\n",
    "\n",
    "O en el alcázar de la reina de la isla de Plata (Schubert, solloza la Serenata…) pudieras también, hermana\n",
    "armoniosa, hacer que las místicas aves de tu alma alabasen, dulce, dulcemente, el claro de luna, los vírgenes lirios, la monja paloma y el cisne marqués. La mejor plata se funde en un ardiente crisol,\n",
    "\n",
    "en el país del sol\n",
    "\n",
    "Vuelve, pues a tu barca, que tiene lista la vela (resuena, lira, Céfiro, vuela) y parte, armoniosa\n",
    "hermana, a donde un príncipe bello, a la orilla del mar, pide liras, y versos y rosas, y acaricia sus rizos de\n",
    "oro bajo un regio y azul parasol,\n",
    "\n",
    "en el país del sol\"\"\""
   ]
  },
  {
   "cell_type": "code",
   "execution_count": 9,
   "metadata": {},
   "outputs": [
    {
     "name": "stdout",
     "output_type": "stream",
     "text": [
      "['Junto', 'al', 'negro', 'palacio', 'del', 'rey', 'de', 'la', 'isla', 'de', 'Hierro', '(¡Oh,', 'cruel,', 'horrible,', 'destierro!)', '¿Cómo', 'es', 'que', 'tú,', 'hermana', 'armoniosa,', 'haces', 'cantar', 'al', 'cielo', 'gris,', 'tu', 'pajarera', 'de', 'ruiseñores,', 'tu', 'formidable', 'caja', 'musical?', '¿No', 'te', 'entristece', 'recordar', 'la', 'primavera', 'en', 'que', 'oíste', 'a', 'un', 'pájaro', 'divino', 'y', 'tornasol', 'en', 'el', 'país', 'del', 'sol?', 'En', 'el', 'jardín', 'del', 'rey', 'de']\n"
     ]
    }
   ],
   "source": [
    "tokenizer = nltk.tokenize.WhitespaceTokenizer()\n",
    "tokens = tokenizer.tokenize(el_pais_del_sol)\n",
    "print(tokens[:60])"
   ]
  },
  {
   "cell_type": "code",
   "execution_count": 10,
   "metadata": {},
   "outputs": [
    {
     "name": "stdout",
     "output_type": "stream",
     "text": [
      "['Junto', 'al', 'negro', 'palacio', 'del', 'rey', 'de', 'la', 'isla', 'de', 'Hierro', '(¡', 'Oh', ',', 'cruel', ',', 'horrible', ',', 'destierro', '!)', '¿', 'Cómo', 'es', 'que', 'tú', ',', 'hermana', 'armoniosa', ',', 'haces', 'cantar', 'al', 'cielo', 'gris', ',', 'tu', 'pajarera', 'de', 'ruiseñores', ',', 'tu', 'formidable', 'caja', 'musical', '?', '¿', 'No', 'te', 'entristece', 'recordar', 'la', 'primavera', 'en', 'que', 'oíste', 'a', 'un', 'pájaro', 'divino', 'y']\n"
     ]
    }
   ],
   "source": [
    "tokenizer = nltk.tokenize.WordPunctTokenizer()\n",
    "tokens = tokenizer.tokenize(el_pais_del_sol)\n",
    "print(tokens[:60])"
   ]
  },
  {
   "cell_type": "code",
   "execution_count": 11,
   "metadata": {},
   "outputs": [
    {
     "name": "stdout",
     "output_type": "stream",
     "text": [
      "['Junto', 'al', 'negro', 'palacio', 'del', 'rey', 'de', 'la', 'isla', 'de', 'Hierro', '(', '¡Oh', ',', 'cruel', ',', 'horrible', ',', 'destierro', '!', ')', '¿Cómo', 'es', 'que', 'tú', ',', 'hermana', 'armoniosa', ',', 'haces', 'cantar', 'al', 'cielo', 'gris', ',', 'tu', 'pajarera', 'de', 'ruiseñores', ',', 'tu', 'formidable', 'caja', 'musical', '?', '¿No', 'te', 'entristece', 'recordar', 'la', 'primavera', 'en', 'que', 'oíste', 'a', 'un', 'pájaro', 'divino', 'y', 'tornasol']\n"
     ]
    }
   ],
   "source": [
    "tokenizer = nltk.tokenize.TreebankWordTokenizer()\n",
    "tokens = tokenizer.tokenize(el_pais_del_sol)\n",
    "print(tokens[:60])"
   ]
  },
  {
   "cell_type": "code",
   "execution_count": 12,
   "metadata": {},
   "outputs": [
    {
     "name": "stdout",
     "output_type": "stream",
     "text": [
      "['Junto', 'al', 'negro', 'palacio', 'del', 'rey', 'de', 'la', 'isla', 'de', 'Hierro', 'Oh', 'cruel', 'horrible', 'destierro', 'Cómo', 'es', 'que', 'tú', 'hermana', 'armoniosa', 'haces', 'cantar', 'al', 'cielo', 'gris', 'tu', 'pajarera', 'de', 'ruiseñores', 'tu', 'formidable', 'caja', 'musical', 'No', 'te', 'entristece', 'recordar', 'la', 'primavera', 'en', 'que', 'oíste', 'a', 'un', 'pájaro', 'divino', 'y', 'tornasol', 'en', 'el', 'país', 'del', 'sol', 'En', 'el', 'jardín', 'del', 'rey', 'de']\n"
     ]
    }
   ],
   "source": [
    "tokenizer = nltk.tokenize.RegexpTokenizer(r'\\w+')\n",
    "tokens = tokenizer.tokenize(el_pais_del_sol)\n",
    "print(tokens[:60])"
   ]
  },
  {
   "cell_type": "markdown",
   "metadata": {},
   "source": [
    "Generalmente la *tokenización* se realiza internamente como un paso intermedio de otros métodos. Vamos a utilizar el *tokenizador* más simple para nuestro texto ya tratado"
   ]
  },
  {
   "cell_type": "code",
   "execution_count": 13,
   "metadata": {},
   "outputs": [
    {
     "name": "stdout",
     "output_type": "stream",
     "text": [
      "['salgo', 'de', '_HASHTAG_', 'que', 'día', 'más', 'largoo']\n",
      "['_USR_', 'no', 'te', 'libraras', 'de', 'ayudar', 'me', 'nos', 'besos', 'y', 'gracias']\n",
      "['_USR_', 'gracias', 'mar']\n",
      "['off', 'pensando', 'en', 'el', 'regalito', 'sinde', 'la', 'que', 'se', 'va', 'de', 'la', 'sgae', 'cuando', 'se', 'van', 'sus', 'corruptos', 'intento', 'no', 'sacar', 'conclusiones', 'lo', 'intento']\n",
      "['conozco', 'a', 'alguien', 'q', 'es', 'adicto', 'al', 'drama', 'ja', 'ja', 'ja', 'te', 'suena', 'd', 'algo']\n"
     ]
    }
   ],
   "source": [
    "tokenizer = nltk.tokenize.WhitespaceTokenizer()\n",
    "x_train_tokens = [tokenizer.tokenize(x) for x in x_train_prep]\n",
    "\n",
    "for i in range(5):\n",
    "    print(x_train_tokens[i])"
   ]
  },
  {
   "cell_type": "markdown",
   "metadata": {},
   "source": [
    "Y ahora analicemos un poco como está funcionando nuestro tokenizador, después de normalizar los datos"
   ]
  },
  {
   "cell_type": "code",
   "execution_count": 14,
   "metadata": {},
   "outputs": [
    {
     "data": {
      "text/html": [
       "<div>\n",
       "<style scoped>\n",
       "    .dataframe tbody tr th:only-of-type {\n",
       "        vertical-align: middle;\n",
       "    }\n",
       "\n",
       "    .dataframe tbody tr th {\n",
       "        vertical-align: top;\n",
       "    }\n",
       "\n",
       "    .dataframe thead th {\n",
       "        text-align: right;\n",
       "    }\n",
       "</style>\n",
       "<table border=\"1\" class=\"dataframe\">\n",
       "  <thead>\n",
       "    <tr style=\"text-align: right;\">\n",
       "      <th></th>\n",
       "      <th>Palabras</th>\n",
       "      <th>Frecuencia</th>\n",
       "    </tr>\n",
       "  </thead>\n",
       "  <tbody>\n",
       "    <tr>\n",
       "      <th>0</th>\n",
       "      <td>de</td>\n",
       "      <td>5466</td>\n",
       "    </tr>\n",
       "    <tr>\n",
       "      <th>1</th>\n",
       "      <td>_USR_</td>\n",
       "      <td>4210</td>\n",
       "    </tr>\n",
       "    <tr>\n",
       "      <th>2</th>\n",
       "      <td>la</td>\n",
       "      <td>3717</td>\n",
       "    </tr>\n",
       "    <tr>\n",
       "      <th>3</th>\n",
       "      <td>el</td>\n",
       "      <td>3398</td>\n",
       "    </tr>\n",
       "    <tr>\n",
       "      <th>4</th>\n",
       "      <td>_URL_</td>\n",
       "      <td>3195</td>\n",
       "    </tr>\n",
       "    <tr>\n",
       "      <th>5</th>\n",
       "      <td>en</td>\n",
       "      <td>3076</td>\n",
       "    </tr>\n",
       "    <tr>\n",
       "      <th>6</th>\n",
       "      <td>a</td>\n",
       "      <td>2769</td>\n",
       "    </tr>\n",
       "    <tr>\n",
       "      <th>7</th>\n",
       "      <td>y</td>\n",
       "      <td>2481</td>\n",
       "    </tr>\n",
       "    <tr>\n",
       "      <th>8</th>\n",
       "      <td>que</td>\n",
       "      <td>2241</td>\n",
       "    </tr>\n",
       "    <tr>\n",
       "      <th>9</th>\n",
       "      <td>_HASHTAG_</td>\n",
       "      <td>1697</td>\n",
       "    </tr>\n",
       "    <tr>\n",
       "      <th>10</th>\n",
       "      <td>los</td>\n",
       "      <td>1376</td>\n",
       "    </tr>\n",
       "    <tr>\n",
       "      <th>11</th>\n",
       "      <td>no</td>\n",
       "      <td>1278</td>\n",
       "    </tr>\n",
       "    <tr>\n",
       "      <th>12</th>\n",
       "      <td>del</td>\n",
       "      <td>1251</td>\n",
       "    </tr>\n",
       "    <tr>\n",
       "      <th>13</th>\n",
       "      <td>con</td>\n",
       "      <td>1120</td>\n",
       "    </tr>\n",
       "    <tr>\n",
       "      <th>14</th>\n",
       "      <td>un</td>\n",
       "      <td>1102</td>\n",
       "    </tr>\n",
       "    <tr>\n",
       "      <th>15</th>\n",
       "      <td>para</td>\n",
       "      <td>1005</td>\n",
       "    </tr>\n",
       "    <tr>\n",
       "      <th>16</th>\n",
       "      <td>es</td>\n",
       "      <td>918</td>\n",
       "    </tr>\n",
       "    <tr>\n",
       "      <th>17</th>\n",
       "      <td>las</td>\n",
       "      <td>909</td>\n",
       "    </tr>\n",
       "    <tr>\n",
       "      <th>18</th>\n",
       "      <td>se</td>\n",
       "      <td>893</td>\n",
       "    </tr>\n",
       "    <tr>\n",
       "      <th>19</th>\n",
       "      <td>por</td>\n",
       "      <td>884</td>\n",
       "    </tr>\n",
       "    <tr>\n",
       "      <th>20</th>\n",
       "      <td>lo</td>\n",
       "      <td>687</td>\n",
       "    </tr>\n",
       "    <tr>\n",
       "      <th>21</th>\n",
       "      <td>rt</td>\n",
       "      <td>602</td>\n",
       "    </tr>\n",
       "    <tr>\n",
       "      <th>22</th>\n",
       "      <td>una</td>\n",
       "      <td>597</td>\n",
       "    </tr>\n",
       "    <tr>\n",
       "      <th>23</th>\n",
       "      <td>me</td>\n",
       "      <td>588</td>\n",
       "    </tr>\n",
       "    <tr>\n",
       "      <th>24</th>\n",
       "      <td>q</td>\n",
       "      <td>562</td>\n",
       "    </tr>\n",
       "    <tr>\n",
       "      <th>25</th>\n",
       "      <td>al</td>\n",
       "      <td>545</td>\n",
       "    </tr>\n",
       "    <tr>\n",
       "      <th>26</th>\n",
       "      <td>d</td>\n",
       "      <td>436</td>\n",
       "    </tr>\n",
       "    <tr>\n",
       "      <th>27</th>\n",
       "      <td>hoy</td>\n",
       "      <td>403</td>\n",
       "    </tr>\n",
       "    <tr>\n",
       "      <th>28</th>\n",
       "      <td>ha</td>\n",
       "      <td>374</td>\n",
       "    </tr>\n",
       "    <tr>\n",
       "      <th>29</th>\n",
       "      <td>su</td>\n",
       "      <td>372</td>\n",
       "    </tr>\n",
       "    <tr>\n",
       "      <th>30</th>\n",
       "      <td>como</td>\n",
       "      <td>371</td>\n",
       "    </tr>\n",
       "    <tr>\n",
       "      <th>31</th>\n",
       "      <td>mi</td>\n",
       "      <td>367</td>\n",
       "    </tr>\n",
       "    <tr>\n",
       "      <th>32</th>\n",
       "      <td>si</td>\n",
       "      <td>354</td>\n",
       "    </tr>\n",
       "    <tr>\n",
       "      <th>33</th>\n",
       "      <td>más</td>\n",
       "      <td>324</td>\n",
       "    </tr>\n",
       "    <tr>\n",
       "      <th>34</th>\n",
       "      <td>rajoy</td>\n",
       "      <td>323</td>\n",
       "    </tr>\n",
       "    <tr>\n",
       "      <th>35</th>\n",
       "      <td>gracias</td>\n",
       "      <td>321</td>\n",
       "    </tr>\n",
       "    <tr>\n",
       "      <th>36</th>\n",
       "      <td>pero</td>\n",
       "      <td>303</td>\n",
       "    </tr>\n",
       "    <tr>\n",
       "      <th>37</th>\n",
       "      <td>ya</td>\n",
       "      <td>299</td>\n",
       "    </tr>\n",
       "    <tr>\n",
       "      <th>38</th>\n",
       "      <td>esta</td>\n",
       "      <td>276</td>\n",
       "    </tr>\n",
       "    <tr>\n",
       "      <th>39</th>\n",
       "      <td>sobre</td>\n",
       "      <td>274</td>\n",
       "    </tr>\n",
       "    <tr>\n",
       "      <th>40</th>\n",
       "      <td>gobierno</td>\n",
       "      <td>272</td>\n",
       "    </tr>\n",
       "    <tr>\n",
       "      <th>41</th>\n",
       "      <td>todos</td>\n",
       "      <td>238</td>\n",
       "    </tr>\n",
       "    <tr>\n",
       "      <th>42</th>\n",
       "      <td>os</td>\n",
       "      <td>229</td>\n",
       "    </tr>\n",
       "    <tr>\n",
       "      <th>43</th>\n",
       "      <td>muy</td>\n",
       "      <td>221</td>\n",
       "    </tr>\n",
       "    <tr>\n",
       "      <th>44</th>\n",
       "      <td>mañana</td>\n",
       "      <td>216</td>\n",
       "    </tr>\n",
       "    <tr>\n",
       "      <th>45</th>\n",
       "      <td>pp</td>\n",
       "      <td>213</td>\n",
       "    </tr>\n",
       "    <tr>\n",
       "      <th>46</th>\n",
       "      <td>nos</td>\n",
       "      <td>207</td>\n",
       "    </tr>\n",
       "    <tr>\n",
       "      <th>47</th>\n",
       "      <td>qué</td>\n",
       "      <td>203</td>\n",
       "    </tr>\n",
       "    <tr>\n",
       "      <th>48</th>\n",
       "      <td>hay</td>\n",
       "      <td>200</td>\n",
       "    </tr>\n",
       "    <tr>\n",
       "      <th>49</th>\n",
       "      <td>está</td>\n",
       "      <td>199</td>\n",
       "    </tr>\n",
       "  </tbody>\n",
       "</table>\n",
       "</div>"
      ],
      "text/plain": [
       "     Palabras  Frecuencia\n",
       "0          de        5466\n",
       "1       _USR_        4210\n",
       "2          la        3717\n",
       "3          el        3398\n",
       "4       _URL_        3195\n",
       "5          en        3076\n",
       "6           a        2769\n",
       "7           y        2481\n",
       "8         que        2241\n",
       "9   _HASHTAG_        1697\n",
       "10        los        1376\n",
       "11         no        1278\n",
       "12        del        1251\n",
       "13        con        1120\n",
       "14         un        1102\n",
       "15       para        1005\n",
       "16         es         918\n",
       "17        las         909\n",
       "18         se         893\n",
       "19        por         884\n",
       "20         lo         687\n",
       "21         rt         602\n",
       "22        una         597\n",
       "23         me         588\n",
       "24          q         562\n",
       "25         al         545\n",
       "26          d         436\n",
       "27        hoy         403\n",
       "28         ha         374\n",
       "29         su         372\n",
       "30       como         371\n",
       "31         mi         367\n",
       "32         si         354\n",
       "33        más         324\n",
       "34      rajoy         323\n",
       "35    gracias         321\n",
       "36       pero         303\n",
       "37         ya         299\n",
       "38       esta         276\n",
       "39      sobre         274\n",
       "40   gobierno         272\n",
       "41      todos         238\n",
       "42         os         229\n",
       "43        muy         221\n",
       "44     mañana         216\n",
       "45         pp         213\n",
       "46        nos         207\n",
       "47        qué         203\n",
       "48        hay         200\n",
       "49       está         199"
      ]
     },
     "execution_count": 14,
     "metadata": {},
     "output_type": "execute_result"
    }
   ],
   "source": [
    "palabras_comunes = nltk.FreqDist(t for d in x_train_tokens for t in d)\n",
    "pc_df = pd.DataFrame(palabras_comunes.most_common(50), columns=['Palabras', 'Frecuencia'])\n",
    "pc_df"
   ]
  },
  {
   "cell_type": "code",
   "execution_count": 16,
   "metadata": {},
   "outputs": [
    {
     "name": "stdout",
     "output_type": "stream",
     "text": [
      "Populating the interactive namespace from numpy and matplotlib\n"
     ]
    },
    {
     "data": {
      "text/plain": [
       "<AxesSubplot:xlabel='Palabras'>"
      ]
     },
     "execution_count": 16,
     "metadata": {},
     "output_type": "execute_result"
    },
    {
     "data": {
      "image/png": "[encoded data removed]",
      "text/plain": [
       "<Figure size 1440x864 with 1 Axes>"
      ]
     },
     "metadata": {
      "needs_background": "light"
     },
     "output_type": "display_data"
    }
   ],
   "source": [
    "import matplotlib\n",
    "%pylab inline\n",
    "pylab.rcParams['figure.figsize'] = (20, 12)\n",
    "\n",
    "pc_df.loc[:,:].plot.bar(x='Palabras', y='Frecuencia', fontsize=20)"
   ]
  },
  {
   "cell_type": "markdown",
   "metadata": {},
   "source": [
    "Como vemos, salen muchas palabras que no nos sirven para gran cosa, y eso es porque no quitamos las palabras de paro. Así que trataremos nuestros datos para quitarlas y ver como es la distribución de palabras que quedan."
   ]
  },
  {
   "cell_type": "code",
   "execution_count": 25,
   "metadata": {},
   "outputs": [
    {
     "data": {
      "text/plain": [
       "<AxesSubplot:xlabel='Palabras'>"
      ]
     },
     "execution_count": 25,
     "metadata": {},
     "output_type": "execute_result"
    },
    {
     "data": {
      "image/png": "[encoded data removed]",
      "text/plain": [
       "<Figure size 1440x864 with 1 Axes>"
      ]
     },
     "metadata": {
      "needs_background": "light"
     },
     "output_type": "display_data"
    }
   ],
   "source": [
    "palabras_paro = nltk.corpus.stopwords.words('spanish')\n",
    "x_train_tokens_sw = [[palabra for palabra in tuit if palabra not in palabras_paro] for\n",
    "                     tuit in x_train_tokens]\n",
    "\n",
    "palabras_comunes = nltk.FreqDist(t for d in x_train_tokens_sw for t in d)\n",
    "pc_df = pd.DataFrame(palabras_comunes.most_common(50), columns=['Palabras', 'Frecuencia'])\n",
    "\n",
    "pc_df.loc[3:,:].plot.bar(x='Palabras', y='Frecuencia', fontsize=20)"
   ]
  },
  {
   "cell_type": "code",
   "execution_count": 22,
   "metadata": {},
   "outputs": [
    {
     "data": {
      "text/plain": [
       "['tenida', 'tenidos', 'tenidas', 'tened', 'alv']"
      ]
     },
     "execution_count": 22,
     "metadata": {},
     "output_type": "execute_result"
    }
   ],
   "source": [
    "palabras_paro[-5:]"
   ]
  },
  {
   "cell_type": "markdown",
   "metadata": {},
   "source": [
    "## 2.3. *Stemming*/Lematización\n",
    "\n",
    "El proceso de *Stemming*/Lematización tiene como fin reducir el tamaño del vocabulario, eliminando algunos casos relativamente simples, como puede ser plurl/singular o femenino/masculino en palabras simples. \n",
    "\n",
    "Si bien existen una cantidad importante de métodos de *stem* para inglés, existen pocos trabajos sobre esto en español. El único método de *stemming* en español bien documentado es el conocido como [*Snowball Spanish stemming algorithm](http://snowball.tartarus.org/algorithms/spanish/stemmer.html) el cual se encuentra implementado en *nltk*. "
   ]
  },
  {
   "cell_type": "code",
   "execution_count": 23,
   "metadata": {},
   "outputs": [
    {
     "name": "stdout",
     "output_type": "stream",
     "text": [
      "['junt', 'al', 'negr', 'palaci', 'del', 'rey', 'de', 'la', 'isla', 'de', 'hierr', 'oh', 'cruel', 'horribl', 'destierr', 'com', 'es', 'que', 'tu', 'herman', 'armoni', 'hac', 'cant', 'al', 'ciel', 'gris', 'tu', 'pajarer', 'de', 'ruiseñor', 'tu', 'formid', 'caj', 'musical', 'no', 'te', 'entristec', 'record', 'la', 'primaver', 'en', 'que', 'oist', 'a', 'un', 'pajar', 'divin', 'y', 'tornasol', 'en', 'el', 'pais', 'del', 'sol', 'en', 'el', 'jardin', 'del', 'rey', 'de']\n"
     ]
    }
   ],
   "source": [
    "tokenizer = nltk.tokenize.RegexpTokenizer(r'\\w+')\n",
    "tokens = tokenizer.tokenize(el_pais_del_sol)\n",
    "\n",
    "stemmer = nltk.stem.snowball.SpanishStemmer()\n",
    "tokens_stem = [stemmer.stem(token) for token in tokens]\n",
    "\n",
    "print(tokens_stem[:60])"
   ]
  },
  {
   "cell_type": "markdown",
   "metadata": {},
   "source": [
    "Veamos ahora que pasa si utilizamos el método de *stemming* y comparamos la dispersión de las palabras respecto a las que se generaron con el tokenizador sin más"
   ]
  },
  {
   "cell_type": "code",
   "execution_count": 24,
   "metadata": {},
   "outputs": [
    {
     "data": {
      "text/plain": [
       "<AxesSubplot:xlabel='Palabras'>"
      ]
     },
     "execution_count": 24,
     "metadata": {},
     "output_type": "execute_result"
    },
    {
     "data": {
      "image/png": "[encoded data removed]",
      "text/plain": [
       "<Figure size 1440x864 with 1 Axes>"
      ]
     },
     "metadata": {
      "needs_background": "light"
     },
     "output_type": "display_data"
    }
   ],
   "source": [
    "x_train_stem = [[stemmer.stem(token) for token in doc] for doc in x_train_tokens_sw]\n",
    "\n",
    "pc_stem = nltk.FreqDist(t for d in x_train_stem for t in d)\n",
    "pc_stem_df = pd.DataFrame(pc_stem.most_common(50), columns=['Palabras', 'Frecuencia'])\n",
    "pc_stem_df.loc[3:,:].plot.bar(x='Palabras', y='Frecuencia', fontsize=20)"
   ]
  }
 ],
 "metadata": {
  "kernelspec": {
   "display_name": "Python 3",
   "language": "python",
   "name": "python3"
  },
  "language_info": {
   "codemirror_mode": {
    "name": "ipython",
    "version": 3
   },
   "file_extension": ".py",
   "mimetype": "text/x-python",
   "name": "python",
   "nbconvert_exporter": "python",
   "pygments_lexer": "ipython3",
   "version": "3.8.5"
  }
 },
 "nbformat": 4,
 "nbformat_minor": 4
}
